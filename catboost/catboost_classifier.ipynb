{
 "cells": [
  {
   "cell_type": "markdown",
   "id": "01103c0a-f32b-4125-a9eb-b7cf7e77708f",
   "metadata": {
    "id": "01103c0a-f32b-4125-a9eb-b7cf7e77708f"
   },
   "source": [
    "### Catboost"
   ]
  },
  {
   "cell_type": "code",
   "execution_count": 1,
   "id": "6db9c234-6769-46a2-ac21-ae83a790ee80",
   "metadata": {
    "colab": {
     "base_uri": "https://localhost:8080/"
    },
    "id": "6db9c234-6769-46a2-ac21-ae83a790ee80",
    "outputId": "946ed0c8-a166-49d6-aa40-9b54f31728c6"
   },
   "outputs": [
    {
     "name": "stdout",
     "output_type": "stream",
     "text": [
      "Collecting catboost\n",
      "  Downloading catboost-1.2.2-cp310-cp310-manylinux2014_x86_64.whl (98.7 MB)\n",
      "\u001b[2K     \u001b[90m━━━━━━━━━━━━━━━━━━━━━━━━━━━━━━━━━━━━━━━━\u001b[0m \u001b[32m98.7/98.7 MB\u001b[0m \u001b[31m9.4 MB/s\u001b[0m eta \u001b[36m0:00:00\u001b[0m\n",
      "\u001b[?25hCollecting optuna\n",
      "  Downloading optuna-3.5.0-py3-none-any.whl (413 kB)\n",
      "\u001b[2K     \u001b[90m━━━━━━━━━━━━━━━━━━━━━━━━━━━━━━━━━━━━━━━━\u001b[0m \u001b[32m413.4/413.4 kB\u001b[0m \u001b[31m40.5 MB/s\u001b[0m eta \u001b[36m0:00:00\u001b[0m\n",
      "\u001b[?25hRequirement already satisfied: graphviz in /usr/local/lib/python3.10/dist-packages (from catboost) (0.20.1)\n",
      "Requirement already satisfied: matplotlib in /usr/local/lib/python3.10/dist-packages (from catboost) (3.7.1)\n",
      "Requirement already satisfied: numpy>=1.16.0 in /usr/local/lib/python3.10/dist-packages (from catboost) (1.23.5)\n",
      "Requirement already satisfied: pandas>=0.24 in /usr/local/lib/python3.10/dist-packages (from catboost) (1.5.3)\n",
      "Requirement already satisfied: scipy in /usr/local/lib/python3.10/dist-packages (from catboost) (1.11.4)\n",
      "Requirement already satisfied: plotly in /usr/local/lib/python3.10/dist-packages (from catboost) (5.15.0)\n",
      "Requirement already satisfied: six in /usr/local/lib/python3.10/dist-packages (from catboost) (1.16.0)\n",
      "Collecting alembic>=1.5.0 (from optuna)\n",
      "  Downloading alembic-1.13.1-py3-none-any.whl (233 kB)\n",
      "\u001b[2K     \u001b[90m━━━━━━━━━━━━━━━━━━━━━━━━━━━━━━━━━━━━━━━━\u001b[0m \u001b[32m233.4/233.4 kB\u001b[0m \u001b[31m31.7 MB/s\u001b[0m eta \u001b[36m0:00:00\u001b[0m\n",
      "\u001b[?25hCollecting colorlog (from optuna)\n",
      "  Downloading colorlog-6.8.0-py3-none-any.whl (11 kB)\n",
      "Requirement already satisfied: packaging>=20.0 in /usr/local/lib/python3.10/dist-packages (from optuna) (23.2)\n",
      "Requirement already satisfied: sqlalchemy>=1.3.0 in /usr/local/lib/python3.10/dist-packages (from optuna) (2.0.23)\n",
      "Requirement already satisfied: tqdm in /usr/local/lib/python3.10/dist-packages (from optuna) (4.66.1)\n",
      "Requirement already satisfied: PyYAML in /usr/local/lib/python3.10/dist-packages (from optuna) (6.0.1)\n",
      "Collecting Mako (from alembic>=1.5.0->optuna)\n",
      "  Downloading Mako-1.3.0-py3-none-any.whl (78 kB)\n",
      "\u001b[2K     \u001b[90m━━━━━━━━━━━━━━━━━━━━━━━━━━━━━━━━━━━━━━━━\u001b[0m \u001b[32m78.6/78.6 kB\u001b[0m \u001b[31m12.5 MB/s\u001b[0m eta \u001b[36m0:00:00\u001b[0m\n",
      "\u001b[?25hRequirement already satisfied: typing-extensions>=4 in /usr/local/lib/python3.10/dist-packages (from alembic>=1.5.0->optuna) (4.5.0)\n",
      "Requirement already satisfied: python-dateutil>=2.8.1 in /usr/local/lib/python3.10/dist-packages (from pandas>=0.24->catboost) (2.8.2)\n",
      "Requirement already satisfied: pytz>=2020.1 in /usr/local/lib/python3.10/dist-packages (from pandas>=0.24->catboost) (2023.3.post1)\n",
      "Requirement already satisfied: greenlet!=0.4.17 in /usr/local/lib/python3.10/dist-packages (from sqlalchemy>=1.3.0->optuna) (3.0.2)\n",
      "Requirement already satisfied: contourpy>=1.0.1 in /usr/local/lib/python3.10/dist-packages (from matplotlib->catboost) (1.2.0)\n",
      "Requirement already satisfied: cycler>=0.10 in /usr/local/lib/python3.10/dist-packages (from matplotlib->catboost) (0.12.1)\n",
      "Requirement already satisfied: fonttools>=4.22.0 in /usr/local/lib/python3.10/dist-packages (from matplotlib->catboost) (4.46.0)\n",
      "Requirement already satisfied: kiwisolver>=1.0.1 in /usr/local/lib/python3.10/dist-packages (from matplotlib->catboost) (1.4.5)\n",
      "Requirement already satisfied: pillow>=6.2.0 in /usr/local/lib/python3.10/dist-packages (from matplotlib->catboost) (9.4.0)\n",
      "Requirement already satisfied: pyparsing>=2.3.1 in /usr/local/lib/python3.10/dist-packages (from matplotlib->catboost) (3.1.1)\n",
      "Requirement already satisfied: tenacity>=6.2.0 in /usr/local/lib/python3.10/dist-packages (from plotly->catboost) (8.2.3)\n",
      "Requirement already satisfied: MarkupSafe>=0.9.2 in /usr/local/lib/python3.10/dist-packages (from Mako->alembic>=1.5.0->optuna) (2.1.3)\n",
      "Installing collected packages: Mako, colorlog, alembic, optuna, catboost\n",
      "Successfully installed Mako-1.3.0 alembic-1.13.1 catboost-1.2.2 colorlog-6.8.0 optuna-3.5.0\n"
     ]
    }
   ],
   "source": [
    "!pip install catboost optuna"
   ]
  },
  {
   "cell_type": "code",
   "execution_count": 2,
   "id": "d36a9211-f6e2-4896-b0e2-695d617a070f",
   "metadata": {
    "id": "d36a9211-f6e2-4896-b0e2-695d617a070f"
   },
   "outputs": [],
   "source": [
    "import pandas as pd\n",
    "import time\n",
    "import numpy as np\n",
    "import matplotlib.pyplot as plt\n",
    "import seaborn as sns\n",
    "import os\n",
    "import catboost\n",
    "from catboost import Pool, CatBoostClassifier, cv\n",
    "import optuna\n",
    "from optuna.samplers import TPESampler\n",
    "from sklearn.metrics import classification_report, f1_score, confusion_matrix, ConfusionMatrixDisplay\n",
    "from sklearn.model_selection import train_test_split\n",
    "\n",
    "\n",
    "np.random.seed(42)"
   ]
  },
  {
   "cell_type": "code",
   "execution_count": 3,
   "id": "be25e39b-7abc-47de-9e32-1ae3604163b3",
   "metadata": {
    "colab": {
     "base_uri": "https://localhost:8080/"
    },
    "id": "be25e39b-7abc-47de-9e32-1ae3604163b3",
    "outputId": "b074f23c-26b3-43d8-a8c4-116367496005"
   },
   "outputs": [
    {
     "name": "stdout",
     "output_type": "stream",
     "text": [
      "Mounted at /content/gdrive\n"
     ]
    }
   ],
   "source": [
    "from google.colab import drive\n",
    "drive.mount('/content/gdrive')"
   ]
  },
  {
   "cell_type": "code",
   "execution_count": 4,
   "id": "a0cbfb43-cd94-4920-8ab4-bf29e8b699e5",
   "metadata": {
    "id": "a0cbfb43-cd94-4920-8ab4-bf29e8b699e5"
   },
   "outputs": [],
   "source": [
    "data_path = '/content/gdrive/MyDrive/Colab_Notebooks/News_Analytics_Project/data'"
   ]
  },
  {
   "cell_type": "code",
   "execution_count": 5,
   "id": "caa58da0-41d3-4660-8730-5528a582918d",
   "metadata": {
    "id": "caa58da0-41d3-4660-8730-5528a582918d"
   },
   "outputs": [],
   "source": [
    "preprocessed_train = pd.read_csv(os.path.join(data_path,'train_preprocess.csv'))\n",
    "preprocessed_test = pd.read_csv(os.path.join(data_path,'test_preprocess.csv'))"
   ]
  },
  {
   "cell_type": "markdown",
   "id": "3e90072f-b658-4b34-82a9-3f53e8dcc492",
   "metadata": {},
   "source": [
    "Results of previous classifier models"
   ]
  },
  {
   "cell_type": "code",
   "execution_count": 6,
   "id": "a4b32bc8-48ea-4984-a32d-bd8f3230a619",
   "metadata": {
    "colab": {
     "base_uri": "https://localhost:8080/",
     "height": 112
    },
    "id": "a4b32bc8-48ea-4984-a32d-bd8f3230a619",
    "outputId": "8c282e88-1dde-43cc-9fad-2c58583eefc0"
   },
   "outputs": [
    {
     "data": {
      "text/html": [
       "\n",
       "  <div id=\"df-7be9bf18-b51e-4671-96e8-538167998ad4\" class=\"colab-df-container\">\n",
       "    <div>\n",
       "<style scoped>\n",
       "    .dataframe tbody tr th:only-of-type {\n",
       "        vertical-align: middle;\n",
       "    }\n",
       "\n",
       "    .dataframe tbody tr th {\n",
       "        vertical-align: top;\n",
       "    }\n",
       "\n",
       "    .dataframe thead th {\n",
       "        text-align: right;\n",
       "    }\n",
       "</style>\n",
       "<table border=\"1\" class=\"dataframe\">\n",
       "  <thead>\n",
       "    <tr style=\"text-align: right;\">\n",
       "      <th></th>\n",
       "      <th>model</th>\n",
       "      <th>vectorizer</th>\n",
       "      <th>f1</th>\n",
       "      <th>predicting time</th>\n",
       "    </tr>\n",
       "  </thead>\n",
       "  <tbody>\n",
       "    <tr>\n",
       "      <th>0</th>\n",
       "      <td>LogisticRegression</td>\n",
       "      <td>Tfidf</td>\n",
       "      <td>0.881</td>\n",
       "      <td>2.648436</td>\n",
       "    </tr>\n",
       "    <tr>\n",
       "      <th>1</th>\n",
       "      <td>LogisticRegression</td>\n",
       "      <td>Word2Vec with Mean Pooling</td>\n",
       "      <td>0.859</td>\n",
       "      <td>3.920810</td>\n",
       "    </tr>\n",
       "  </tbody>\n",
       "</table>\n",
       "</div>\n",
       "    <div class=\"colab-df-buttons\">\n",
       "\n",
       "  <div class=\"colab-df-container\">\n",
       "    <button class=\"colab-df-convert\" onclick=\"convertToInteractive('df-7be9bf18-b51e-4671-96e8-538167998ad4')\"\n",
       "            title=\"Convert this dataframe to an interactive table.\"\n",
       "            style=\"display:none;\">\n",
       "\n",
       "  <svg xmlns=\"http://www.w3.org/2000/svg\" height=\"24px\" viewBox=\"0 -960 960 960\">\n",
       "    <path d=\"M120-120v-720h720v720H120Zm60-500h600v-160H180v160Zm220 220h160v-160H400v160Zm0 220h160v-160H400v160ZM180-400h160v-160H180v160Zm440 0h160v-160H620v160ZM180-180h160v-160H180v160Zm440 0h160v-160H620v160Z\"/>\n",
       "  </svg>\n",
       "    </button>\n",
       "\n",
       "  <style>\n",
       "    .colab-df-container {\n",
       "      display:flex;\n",
       "      gap: 12px;\n",
       "    }\n",
       "\n",
       "    .colab-df-convert {\n",
       "      background-color: #E8F0FE;\n",
       "      border: none;\n",
       "      border-radius: 50%;\n",
       "      cursor: pointer;\n",
       "      display: none;\n",
       "      fill: #1967D2;\n",
       "      height: 32px;\n",
       "      padding: 0 0 0 0;\n",
       "      width: 32px;\n",
       "    }\n",
       "\n",
       "    .colab-df-convert:hover {\n",
       "      background-color: #E2EBFA;\n",
       "      box-shadow: 0px 1px 2px rgba(60, 64, 67, 0.3), 0px 1px 3px 1px rgba(60, 64, 67, 0.15);\n",
       "      fill: #174EA6;\n",
       "    }\n",
       "\n",
       "    .colab-df-buttons div {\n",
       "      margin-bottom: 4px;\n",
       "    }\n",
       "\n",
       "    [theme=dark] .colab-df-convert {\n",
       "      background-color: #3B4455;\n",
       "      fill: #D2E3FC;\n",
       "    }\n",
       "\n",
       "    [theme=dark] .colab-df-convert:hover {\n",
       "      background-color: #434B5C;\n",
       "      box-shadow: 0px 1px 3px 1px rgba(0, 0, 0, 0.15);\n",
       "      filter: drop-shadow(0px 1px 2px rgba(0, 0, 0, 0.3));\n",
       "      fill: #FFFFFF;\n",
       "    }\n",
       "  </style>\n",
       "\n",
       "    <script>\n",
       "      const buttonEl =\n",
       "        document.querySelector('#df-7be9bf18-b51e-4671-96e8-538167998ad4 button.colab-df-convert');\n",
       "      buttonEl.style.display =\n",
       "        google.colab.kernel.accessAllowed ? 'block' : 'none';\n",
       "\n",
       "      async function convertToInteractive(key) {\n",
       "        const element = document.querySelector('#df-7be9bf18-b51e-4671-96e8-538167998ad4');\n",
       "        const dataTable =\n",
       "          await google.colab.kernel.invokeFunction('convertToInteractive',\n",
       "                                                    [key], {});\n",
       "        if (!dataTable) return;\n",
       "\n",
       "        const docLinkHtml = 'Like what you see? Visit the ' +\n",
       "          '<a target=\"_blank\" href=https://colab.research.google.com/notebooks/data_table.ipynb>data table notebook</a>'\n",
       "          + ' to learn more about interactive tables.';\n",
       "        element.innerHTML = '';\n",
       "        dataTable['output_type'] = 'display_data';\n",
       "        await google.colab.output.renderOutput(dataTable, element);\n",
       "        const docLink = document.createElement('div');\n",
       "        docLink.innerHTML = docLinkHtml;\n",
       "        element.appendChild(docLink);\n",
       "      }\n",
       "    </script>\n",
       "  </div>\n",
       "\n",
       "\n",
       "<div id=\"df-8d799d99-29d1-41d5-95bf-486bc6233d19\">\n",
       "  <button class=\"colab-df-quickchart\" onclick=\"quickchart('df-8d799d99-29d1-41d5-95bf-486bc6233d19')\"\n",
       "            title=\"Suggest charts\"\n",
       "            style=\"display:none;\">\n",
       "\n",
       "<svg xmlns=\"http://www.w3.org/2000/svg\" height=\"24px\"viewBox=\"0 0 24 24\"\n",
       "     width=\"24px\">\n",
       "    <g>\n",
       "        <path d=\"M19 3H5c-1.1 0-2 .9-2 2v14c0 1.1.9 2 2 2h14c1.1 0 2-.9 2-2V5c0-1.1-.9-2-2-2zM9 17H7v-7h2v7zm4 0h-2V7h2v10zm4 0h-2v-4h2v4z\"/>\n",
       "    </g>\n",
       "</svg>\n",
       "  </button>\n",
       "\n",
       "<style>\n",
       "  .colab-df-quickchart {\n",
       "      --bg-color: #E8F0FE;\n",
       "      --fill-color: #1967D2;\n",
       "      --hover-bg-color: #E2EBFA;\n",
       "      --hover-fill-color: #174EA6;\n",
       "      --disabled-fill-color: #AAA;\n",
       "      --disabled-bg-color: #DDD;\n",
       "  }\n",
       "\n",
       "  [theme=dark] .colab-df-quickchart {\n",
       "      --bg-color: #3B4455;\n",
       "      --fill-color: #D2E3FC;\n",
       "      --hover-bg-color: #434B5C;\n",
       "      --hover-fill-color: #FFFFFF;\n",
       "      --disabled-bg-color: #3B4455;\n",
       "      --disabled-fill-color: #666;\n",
       "  }\n",
       "\n",
       "  .colab-df-quickchart {\n",
       "    background-color: var(--bg-color);\n",
       "    border: none;\n",
       "    border-radius: 50%;\n",
       "    cursor: pointer;\n",
       "    display: none;\n",
       "    fill: var(--fill-color);\n",
       "    height: 32px;\n",
       "    padding: 0;\n",
       "    width: 32px;\n",
       "  }\n",
       "\n",
       "  .colab-df-quickchart:hover {\n",
       "    background-color: var(--hover-bg-color);\n",
       "    box-shadow: 0 1px 2px rgba(60, 64, 67, 0.3), 0 1px 3px 1px rgba(60, 64, 67, 0.15);\n",
       "    fill: var(--button-hover-fill-color);\n",
       "  }\n",
       "\n",
       "  .colab-df-quickchart-complete:disabled,\n",
       "  .colab-df-quickchart-complete:disabled:hover {\n",
       "    background-color: var(--disabled-bg-color);\n",
       "    fill: var(--disabled-fill-color);\n",
       "    box-shadow: none;\n",
       "  }\n",
       "\n",
       "  .colab-df-spinner {\n",
       "    border: 2px solid var(--fill-color);\n",
       "    border-color: transparent;\n",
       "    border-bottom-color: var(--fill-color);\n",
       "    animation:\n",
       "      spin 1s steps(1) infinite;\n",
       "  }\n",
       "\n",
       "  @keyframes spin {\n",
       "    0% {\n",
       "      border-color: transparent;\n",
       "      border-bottom-color: var(--fill-color);\n",
       "      border-left-color: var(--fill-color);\n",
       "    }\n",
       "    20% {\n",
       "      border-color: transparent;\n",
       "      border-left-color: var(--fill-color);\n",
       "      border-top-color: var(--fill-color);\n",
       "    }\n",
       "    30% {\n",
       "      border-color: transparent;\n",
       "      border-left-color: var(--fill-color);\n",
       "      border-top-color: var(--fill-color);\n",
       "      border-right-color: var(--fill-color);\n",
       "    }\n",
       "    40% {\n",
       "      border-color: transparent;\n",
       "      border-right-color: var(--fill-color);\n",
       "      border-top-color: var(--fill-color);\n",
       "    }\n",
       "    60% {\n",
       "      border-color: transparent;\n",
       "      border-right-color: var(--fill-color);\n",
       "    }\n",
       "    80% {\n",
       "      border-color: transparent;\n",
       "      border-right-color: var(--fill-color);\n",
       "      border-bottom-color: var(--fill-color);\n",
       "    }\n",
       "    90% {\n",
       "      border-color: transparent;\n",
       "      border-bottom-color: var(--fill-color);\n",
       "    }\n",
       "  }\n",
       "</style>\n",
       "\n",
       "  <script>\n",
       "    async function quickchart(key) {\n",
       "      const quickchartButtonEl =\n",
       "        document.querySelector('#' + key + ' button');\n",
       "      quickchartButtonEl.disabled = true;  // To prevent multiple clicks.\n",
       "      quickchartButtonEl.classList.add('colab-df-spinner');\n",
       "      try {\n",
       "        const charts = await google.colab.kernel.invokeFunction(\n",
       "            'suggestCharts', [key], {});\n",
       "      } catch (error) {\n",
       "        console.error('Error during call to suggestCharts:', error);\n",
       "      }\n",
       "      quickchartButtonEl.classList.remove('colab-df-spinner');\n",
       "      quickchartButtonEl.classList.add('colab-df-quickchart-complete');\n",
       "    }\n",
       "    (() => {\n",
       "      let quickchartButtonEl =\n",
       "        document.querySelector('#df-8d799d99-29d1-41d5-95bf-486bc6233d19 button');\n",
       "      quickchartButtonEl.style.display =\n",
       "        google.colab.kernel.accessAllowed ? 'block' : 'none';\n",
       "    })();\n",
       "  </script>\n",
       "</div>\n",
       "    </div>\n",
       "  </div>\n"
      ],
      "text/plain": [
       "                model                  vectorizer     f1  predicting time\n",
       "0  LogisticRegression                       Tfidf  0.881         2.648436\n",
       "1  LogisticRegression  Word2Vec with Mean Pooling  0.859         3.920810"
      ]
     },
     "execution_count": 6,
     "metadata": {},
     "output_type": "execute_result"
    }
   ],
   "source": [
    "summary = pd.read_csv(os.path.join(data_path,'summary_ml.csv'))\n",
    "summary"
   ]
  },
  {
   "cell_type": "markdown",
   "id": "1029d9a5-7eab-4778-a37e-f17c4f8bba7c",
   "metadata": {
    "id": "1029d9a5-7eab-4778-a37e-f17c4f8bba7c"
   },
   "source": [
    "We will fit CatboostClassifier with validation on lemmatized docs using default [Text processing](https://catboost.ai/en/docs/references/text-processing__test-processing__default-value) the Catboost library supports and use Optuna Library to tune hyperparameters. \n",
    "\n",
    "Train set is 80% and Test and Validation set have 10% of the original collected data. "
   ]
  },
  {
   "cell_type": "code",
   "execution_count": 7,
   "id": "0916f0b4-5c2a-45ed-b46f-df5ba5d825a2",
   "metadata": {
    "colab": {
     "base_uri": "https://localhost:8080/"
    },
    "id": "0916f0b4-5c2a-45ed-b46f-df5ba5d825a2",
    "outputId": "366cc255-6654-4697-d89b-d71351f2777f"
   },
   "outputs": [
    {
     "name": "stdout",
     "output_type": "stream",
     "text": [
      "Train dataset shape: (30391, 1)\n",
      "\n"
     ]
    }
   ],
   "source": [
    "X_train = preprocessed_train[['lemmas']]\n",
    "y_train = preprocessed_train.topic\n",
    "\n",
    "train_texts, val_texts, train_labels, val_labels = train_test_split(X_train, y_train, test_size=0.10, random_state=42)\n",
    "\n",
    "train = Pool(data=train_texts,\n",
    "                  label=train_labels,\n",
    "    text_features=['lemmas'],\n",
    ")\n",
    "\n",
    "validation = Pool(data=val_texts,\n",
    "                       label=val_labels,\n",
    "    text_features=['lemmas']\n",
    ")\n",
    "\n",
    "print('Train dataset shape: {}\\n'.format(train.shape))"
   ]
  },
  {
   "cell_type": "code",
   "execution_count": 8,
   "id": "4abf40c6-a58f-4b44-a1cf-fdcaedc197d3",
   "metadata": {
    "colab": {
     "base_uri": "https://localhost:8080/"
    },
    "collapsed": true,
    "id": "4abf40c6-a58f-4b44-a1cf-fdcaedc197d3",
    "jupyter": {
     "outputs_hidden": true
    },
    "outputId": "ede9a7ee-a82d-4047-840d-5f51d9cd4acc",
    "tags": []
   },
   "outputs": [
    {
     "name": "stderr",
     "output_type": "stream",
     "text": [
      "[I 2023-12-21 10:21:10,556] A new study created in memory with name: no-name-b432fc4f-b8b0-46a7-8008-ce15a49763cf\n"
     ]
    },
    {
     "name": "stdout",
     "output_type": "stream",
     "text": [
      "0:\tlearn: 1.8908879\ttest: 1.8904710\tbest: 1.8904710 (0)\ttotal: 39.6ms\tremaining: 39.5s\n",
      "100:\tlearn: 0.4950913\ttest: 0.4830791\tbest: 0.4830791 (100)\ttotal: 2.01s\tremaining: 17.9s\n",
      "200:\tlearn: 0.4516231\ttest: 0.4533499\tbest: 0.4533499 (200)\ttotal: 3.74s\tremaining: 14.9s\n",
      "300:\tlearn: 0.4261368\ttest: 0.4398951\tbest: 0.4398951 (300)\ttotal: 5.41s\tremaining: 12.6s\n",
      "400:\tlearn: 0.4043253\ttest: 0.4291076\tbest: 0.4291076 (400)\ttotal: 7.07s\tremaining: 10.6s\n",
      "500:\tlearn: 0.3851177\ttest: 0.4199595\tbest: 0.4199595 (500)\ttotal: 8.79s\tremaining: 8.75s\n",
      "600:\tlearn: 0.3700714\ttest: 0.4145543\tbest: 0.4145483 (595)\ttotal: 10.4s\tremaining: 6.93s\n",
      "700:\tlearn: 0.3572545\ttest: 0.4099347\tbest: 0.4099347 (700)\ttotal: 12s\tremaining: 5.13s\n",
      "800:\tlearn: 0.3449212\ttest: 0.4060576\tbest: 0.4060576 (800)\ttotal: 13.6s\tremaining: 3.39s\n",
      "900:\tlearn: 0.3347283\ttest: 0.4029061\tbest: 0.4029061 (900)\ttotal: 15.2s\tremaining: 1.67s\n",
      "999:\tlearn: 0.3250671\ttest: 0.3992520\tbest: 0.3992520 (999)\ttotal: 16.8s\tremaining: 0us\n",
      "bestTest = 0.3992520491\n",
      "bestIteration = 999\n"
     ]
    },
    {
     "name": "stderr",
     "output_type": "stream",
     "text": [
      "[I 2023-12-21 10:21:43,043] Trial 0 finished with value: 0.8714868579792134 and parameters: {'learning_rate': 0.07268222670380756, 'depth': 6, 'l2_leaf_reg': 3.814811628513625}. Best is trial 0 with value: 0.8714868579792134.\n"
     ]
    },
    {
     "name": "stdout",
     "output_type": "stream",
     "text": [
      "0:\tlearn: 1.8884295\ttest: 1.8833758\tbest: 1.8833758 (0)\ttotal: 87.3ms\tremaining: 1m 27s\n",
      "100:\tlearn: 0.4776003\ttest: 0.4771091\tbest: 0.4771091 (100)\ttotal: 5.56s\tremaining: 49.5s\n",
      "200:\tlearn: 0.4235416\ttest: 0.4442506\tbest: 0.4442506 (200)\ttotal: 10.3s\tremaining: 40.8s\n",
      "300:\tlearn: 0.3920216\ttest: 0.4300080\tbest: 0.4300080 (300)\ttotal: 14.7s\tremaining: 34.2s\n",
      "400:\tlearn: 0.3660517\ttest: 0.4203111\tbest: 0.4203111 (400)\ttotal: 19.2s\tremaining: 28.7s\n",
      "500:\tlearn: 0.3443697\ttest: 0.4127857\tbest: 0.4127857 (500)\ttotal: 23.7s\tremaining: 23.7s\n",
      "600:\tlearn: 0.3268688\ttest: 0.4084123\tbest: 0.4084123 (600)\ttotal: 28.2s\tremaining: 18.7s\n",
      "700:\tlearn: 0.3115279\ttest: 0.4034992\tbest: 0.4034992 (700)\ttotal: 32.6s\tremaining: 13.9s\n",
      "800:\tlearn: 0.2978716\ttest: 0.4003486\tbest: 0.4003486 (800)\ttotal: 36.9s\tremaining: 9.18s\n",
      "900:\tlearn: 0.2856994\ttest: 0.3976723\tbest: 0.3975260 (895)\ttotal: 41.2s\tremaining: 4.53s\n",
      "999:\tlearn: 0.2754413\ttest: 0.3950405\tbest: 0.3949850 (991)\ttotal: 45.5s\tremaining: 0us\n",
      "bestTest = 0.3949850465\n",
      "bestIteration = 991\n",
      "Shrink model to first 992 iterations.\n"
     ]
    },
    {
     "name": "stderr",
     "output_type": "stream",
     "text": [
      "[I 2023-12-21 10:22:43,911] Trial 1 finished with value: 0.8702469543385649 and parameters: {'learning_rate': 0.05961832921746022, 'depth': 9, 'l2_leaf_reg': 5.384851680995688}. Best is trial 0 with value: 0.8714868579792134.\n"
     ]
    },
    {
     "name": "stdout",
     "output_type": "stream",
     "text": [
      "0:\tlearn: 1.7024133\ttest: 1.6942233\tbest: 1.6942233 (0)\ttotal: 87ms\tremaining: 1m 26s\n",
      "100:\tlearn: 0.4412662\ttest: 0.4553560\tbest: 0.4553560 (100)\ttotal: 5.28s\tremaining: 47s\n",
      "200:\tlearn: 0.3869189\ttest: 0.4297075\tbest: 0.4297075 (200)\ttotal: 9.83s\tremaining: 39.1s\n",
      "300:\tlearn: 0.3517882\ttest: 0.4172533\tbest: 0.4172533 (300)\ttotal: 14.2s\tremaining: 33.1s\n",
      "400:\tlearn: 0.3254231\ttest: 0.4100987\tbest: 0.4100987 (400)\ttotal: 18.6s\tremaining: 27.8s\n",
      "500:\tlearn: 0.3037158\ttest: 0.4047857\tbest: 0.4047857 (500)\ttotal: 22.9s\tremaining: 22.8s\n",
      "600:\tlearn: 0.2839313\ttest: 0.4001339\tbest: 0.4001029 (599)\ttotal: 27.3s\tremaining: 18.1s\n",
      "700:\tlearn: 0.2675992\ttest: 0.3969286\tbest: 0.3969286 (700)\ttotal: 31.5s\tremaining: 13.4s\n",
      "800:\tlearn: 0.2528363\ttest: 0.3934567\tbest: 0.3934567 (800)\ttotal: 35.8s\tremaining: 8.89s\n",
      "900:\tlearn: 0.2398157\ttest: 0.3910810\tbest: 0.3910810 (900)\ttotal: 40.2s\tremaining: 4.42s\n",
      "999:\tlearn: 0.2286988\ttest: 0.3891007\tbest: 0.3890688 (995)\ttotal: 44.4s\tremaining: 0us\n",
      "bestTest = 0.3890687752\n",
      "bestIteration = 995\n",
      "Shrink model to first 996 iterations.\n"
     ]
    },
    {
     "name": "stderr",
     "output_type": "stream",
     "text": [
      "[I 2023-12-21 10:23:43,843] Trial 2 finished with value: 0.8710723654966626 and parameters: {'learning_rate': 0.0982687778546154, 'depth': 9, 'l2_leaf_reg': 5.8474552118748875}. Best is trial 0 with value: 0.8714868579792134.\n"
     ]
    },
    {
     "name": "stdout",
     "output_type": "stream",
     "text": [
      "0:\tlearn: 1.9817603\ttest: 1.9804757\tbest: 1.9804757 (0)\ttotal: 39.3ms\tremaining: 39.3s\n",
      "100:\tlearn: 0.5293034\ttest: 0.5097658\tbest: 0.5097658 (100)\ttotal: 2.66s\tremaining: 23.7s\n",
      "200:\tlearn: 0.4802728\ttest: 0.4709163\tbest: 0.4709163 (200)\ttotal: 4.89s\tremaining: 19.4s\n",
      "300:\tlearn: 0.4538550\ttest: 0.4543869\tbest: 0.4543869 (300)\ttotal: 7.06s\tremaining: 16.4s\n",
      "400:\tlearn: 0.4354294\ttest: 0.4438098\tbest: 0.4438098 (400)\ttotal: 9.24s\tremaining: 13.8s\n",
      "500:\tlearn: 0.4191776\ttest: 0.4349200\tbest: 0.4349200 (500)\ttotal: 11.4s\tremaining: 11.3s\n",
      "600:\tlearn: 0.4067252\ttest: 0.4295012\tbest: 0.4295012 (600)\ttotal: 13.5s\tremaining: 8.99s\n",
      "700:\tlearn: 0.3958292\ttest: 0.4249397\tbest: 0.4249397 (700)\ttotal: 15.7s\tremaining: 6.69s\n",
      "800:\tlearn: 0.3855068\ttest: 0.4203919\tbest: 0.4203919 (800)\ttotal: 17.8s\tremaining: 4.42s\n",
      "900:\tlearn: 0.3764360\ttest: 0.4167016\tbest: 0.4167016 (900)\ttotal: 19.9s\tremaining: 2.19s\n",
      "999:\tlearn: 0.3681781\ttest: 0.4131187\tbest: 0.4131187 (999)\ttotal: 22s\tremaining: 0us\n",
      "bestTest = 0.4131186872\n",
      "bestIteration = 999\n"
     ]
    },
    {
     "name": "stderr",
     "output_type": "stream",
     "text": [
      "[I 2023-12-21 10:24:21,110] Trial 3 finished with value: 0.8689273244982681 and parameters: {'learning_rate': 0.04529057663747355, 'depth': 7, 'l2_leaf_reg': 7.832397659072333}. Best is trial 0 with value: 0.8714868579792134.\n"
     ]
    },
    {
     "name": "stdout",
     "output_type": "stream",
     "text": [
      "0:\tlearn: 2.0132010\ttest: 2.0121451\tbest: 2.0121451 (0)\ttotal: 24.9ms\tremaining: 24.9s\n",
      "100:\tlearn: 0.5459111\ttest: 0.5239142\tbest: 0.5239142 (100)\ttotal: 1.57s\tremaining: 14s\n",
      "200:\tlearn: 0.4971190\ttest: 0.4811261\tbest: 0.4811261 (200)\ttotal: 2.9s\tremaining: 11.5s\n",
      "300:\tlearn: 0.4727116\ttest: 0.4633176\tbest: 0.4633176 (300)\ttotal: 4.22s\tremaining: 9.8s\n",
      "400:\tlearn: 0.4557244\ttest: 0.4514688\tbest: 0.4514601 (399)\ttotal: 5.55s\tremaining: 8.29s\n",
      "500:\tlearn: 0.4414320\ttest: 0.4420911\tbest: 0.4420792 (499)\ttotal: 6.84s\tremaining: 6.81s\n",
      "600:\tlearn: 0.4294326\ttest: 0.4355290\tbest: 0.4355280 (599)\ttotal: 8.13s\tremaining: 5.39s\n",
      "700:\tlearn: 0.4193055\ttest: 0.4305756\tbest: 0.4305756 (700)\ttotal: 9.43s\tremaining: 4.02s\n",
      "800:\tlearn: 0.4102642\ttest: 0.4264821\tbest: 0.4264719 (799)\ttotal: 10.7s\tremaining: 2.66s\n",
      "900:\tlearn: 0.4019816\ttest: 0.4228636\tbest: 0.4228636 (900)\ttotal: 12s\tremaining: 1.32s\n",
      "999:\tlearn: 0.3943776\ttest: 0.4194560\tbest: 0.4194560 (999)\ttotal: 13.3s\tremaining: 0us\n",
      "bestTest = 0.4194560052\n",
      "bestIteration = 999\n"
     ]
    },
    {
     "name": "stderr",
     "output_type": "stream",
     "text": [
      "[I 2023-12-21 10:24:49,679] Trial 4 finished with value: 0.8666101506222899 and parameters: {'learning_rate': 0.0494715020211662, 'depth': 5, 'l2_leaf_reg': 5.184354042643451}. Best is trial 0 with value: 0.8714868579792134.\n"
     ]
    },
    {
     "name": "stdout",
     "output_type": "stream",
     "text": [
      "0:\tlearn: 1.8756035\ttest: 1.8751693\tbest: 1.8751693 (0)\ttotal: 29.9ms\tremaining: 29.9s\n",
      "100:\tlearn: 0.4900956\ttest: 0.4807940\tbest: 0.4807940 (100)\ttotal: 1.94s\tremaining: 17.2s\n",
      "200:\tlearn: 0.4442681\ttest: 0.4494654\tbest: 0.4494654 (200)\ttotal: 3.62s\tremaining: 14.4s\n",
      "300:\tlearn: 0.4174767\ttest: 0.4351995\tbest: 0.4351995 (300)\ttotal: 5.24s\tremaining: 12.2s\n",
      "400:\tlearn: 0.3957646\ttest: 0.4250485\tbest: 0.4250485 (400)\ttotal: 6.86s\tremaining: 10.3s\n",
      "500:\tlearn: 0.3771983\ttest: 0.4169032\tbest: 0.4169032 (500)\ttotal: 8.46s\tremaining: 8.43s\n",
      "600:\tlearn: 0.3620910\ttest: 0.4118817\tbest: 0.4118817 (600)\ttotal: 10.1s\tremaining: 6.68s\n",
      "700:\tlearn: 0.3483406\ttest: 0.4073936\tbest: 0.4073936 (700)\ttotal: 11.7s\tremaining: 4.98s\n",
      "800:\tlearn: 0.3363777\ttest: 0.4030902\tbest: 0.4030902 (800)\ttotal: 13.3s\tremaining: 3.31s\n",
      "900:\tlearn: 0.3254600\ttest: 0.3997911\tbest: 0.3997911 (900)\ttotal: 14.9s\tremaining: 1.64s\n",
      "999:\tlearn: 0.3155657\ttest: 0.3967326\tbest: 0.3967326 (999)\ttotal: 16.6s\tremaining: 0us\n",
      "bestTest = 0.3967326003\n",
      "bestIteration = 999\n"
     ]
    },
    {
     "name": "stderr",
     "output_type": "stream",
     "text": [
      "[I 2023-12-21 10:25:21,659] Trial 5 finished with value: 0.8721107576311358 and parameters: {'learning_rate': 0.07641958651588322, 'depth': 6, 'l2_leaf_reg': 3.4036140491799403}. Best is trial 5 with value: 0.8721107576311358.\n"
     ]
    },
    {
     "name": "stdout",
     "output_type": "stream",
     "text": [
      "0:\tlearn: 1.9017160\ttest: 1.8978989\tbest: 1.8978989 (0)\ttotal: 56.7ms\tremaining: 56.6s\n",
      "100:\tlearn: 0.4983522\ttest: 0.4879278\tbest: 0.4879278 (100)\ttotal: 3.72s\tremaining: 33.1s\n",
      "200:\tlearn: 0.4497355\ttest: 0.4548426\tbest: 0.4548426 (200)\ttotal: 6.8s\tremaining: 27s\n",
      "300:\tlearn: 0.4212086\ttest: 0.4398599\tbest: 0.4398599 (300)\ttotal: 9.83s\tremaining: 22.8s\n",
      "400:\tlearn: 0.3984719\ttest: 0.4284847\tbest: 0.4284847 (400)\ttotal: 12.8s\tremaining: 19.1s\n",
      "500:\tlearn: 0.3799670\ttest: 0.4203560\tbest: 0.4203560 (500)\ttotal: 15.7s\tremaining: 15.7s\n",
      "600:\tlearn: 0.3642184\ttest: 0.4146672\tbest: 0.4146672 (600)\ttotal: 18.7s\tremaining: 12.4s\n",
      "700:\tlearn: 0.3499565\ttest: 0.4089360\tbest: 0.4089360 (700)\ttotal: 21.7s\tremaining: 9.25s\n",
      "800:\tlearn: 0.3381019\ttest: 0.4053916\tbest: 0.4053916 (800)\ttotal: 24.6s\tremaining: 6.12s\n",
      "900:\tlearn: 0.3277232\ttest: 0.4023631\tbest: 0.4023631 (900)\ttotal: 27.5s\tremaining: 3.02s\n",
      "999:\tlearn: 0.3182604\ttest: 0.3996435\tbest: 0.3996435 (999)\ttotal: 30.4s\tremaining: 0us\n",
      "bestTest = 0.3996435272\n",
      "bestIteration = 999\n"
     ]
    },
    {
     "name": "stderr",
     "output_type": "stream",
     "text": [
      "[I 2023-12-21 10:26:07,306] Trial 6 finished with value: 0.868566289529005 and parameters: {'learning_rate': 0.05783962364576546, 'depth': 8, 'l2_leaf_reg': 7.0752076684105685}. Best is trial 5 with value: 0.8721107576311358.\n"
     ]
    },
    {
     "name": "stdout",
     "output_type": "stream",
     "text": [
      "0:\tlearn: 1.7598587\ttest: 1.7525743\tbest: 1.7525743 (0)\ttotal: 88.4ms\tremaining: 1m 28s\n",
      "100:\tlearn: 0.4598877\ttest: 0.4650070\tbest: 0.4650070 (100)\ttotal: 5.39s\tremaining: 48s\n",
      "200:\tlearn: 0.4058741\ttest: 0.4375489\tbest: 0.4375489 (200)\ttotal: 9.99s\tremaining: 39.7s\n",
      "300:\tlearn: 0.3719976\ttest: 0.4234065\tbest: 0.4234065 (300)\ttotal: 14.5s\tremaining: 33.6s\n",
      "400:\tlearn: 0.3465198\ttest: 0.4153084\tbest: 0.4153084 (400)\ttotal: 18.9s\tremaining: 28.3s\n",
      "500:\tlearn: 0.3246904\ttest: 0.4086171\tbest: 0.4086171 (500)\ttotal: 23.3s\tremaining: 23.2s\n",
      "600:\tlearn: 0.3066284\ttest: 0.4036157\tbest: 0.4036157 (600)\ttotal: 27.6s\tremaining: 18.3s\n",
      "700:\tlearn: 0.2904371\ttest: 0.3999602\tbest: 0.3999602 (700)\ttotal: 32s\tremaining: 13.6s\n",
      "800:\tlearn: 0.2760445\ttest: 0.3967200\tbest: 0.3966923 (785)\ttotal: 36.3s\tremaining: 9.01s\n",
      "900:\tlearn: 0.2635749\ttest: 0.3946877\tbest: 0.3946877 (900)\ttotal: 40.5s\tremaining: 4.45s\n",
      "999:\tlearn: 0.2525459\ttest: 0.3927634\tbest: 0.3927538 (992)\ttotal: 44.7s\tremaining: 0us\n",
      "bestTest = 0.392753766\n",
      "bestIteration = 992\n",
      "Shrink model to first 993 iterations.\n"
     ]
    },
    {
     "name": "stderr",
     "output_type": "stream",
     "text": [
      "[I 2023-12-21 10:27:07,558] Trial 7 finished with value: 0.8699566345767026 and parameters: {'learning_rate': 0.08644886146700106, 'depth': 9, 'l2_leaf_reg': 6.888188085420663}. Best is trial 5 with value: 0.8721107576311358.\n"
     ]
    },
    {
     "name": "stdout",
     "output_type": "stream",
     "text": [
      "0:\tlearn: 1.8823849\ttest: 1.8819317\tbest: 1.8819317 (0)\ttotal: 30.2ms\tremaining: 30.1s\n",
      "100:\tlearn: 0.4979126\ttest: 0.4840039\tbest: 0.4840039 (100)\ttotal: 1.91s\tremaining: 17s\n",
      "200:\tlearn: 0.4540475\ttest: 0.4533882\tbest: 0.4533882 (200)\ttotal: 3.54s\tremaining: 14.1s\n",
      "300:\tlearn: 0.4283783\ttest: 0.4397465\tbest: 0.4397137 (299)\ttotal: 5.14s\tremaining: 11.9s\n",
      "400:\tlearn: 0.4079642\ttest: 0.4297406\tbest: 0.4297406 (400)\ttotal: 6.77s\tremaining: 10.1s\n",
      "500:\tlearn: 0.3906263\ttest: 0.4210473\tbest: 0.4210473 (500)\ttotal: 8.4s\tremaining: 8.37s\n",
      "600:\tlearn: 0.3757911\ttest: 0.4152505\tbest: 0.4152480 (598)\ttotal: 9.99s\tremaining: 6.63s\n",
      "700:\tlearn: 0.3627178\ttest: 0.4102423\tbest: 0.4102423 (700)\ttotal: 11.6s\tremaining: 4.94s\n",
      "800:\tlearn: 0.3511102\ttest: 0.4068152\tbest: 0.4068152 (800)\ttotal: 13.2s\tremaining: 3.27s\n",
      "900:\tlearn: 0.3410255\ttest: 0.4039640\tbest: 0.4039640 (900)\ttotal: 14.7s\tremaining: 1.62s\n",
      "999:\tlearn: 0.3314015\ttest: 0.4004546\tbest: 0.4004546 (999)\ttotal: 16.3s\tremaining: 0us\n",
      "bestTest = 0.4004546423\n",
      "bestIteration = 999\n"
     ]
    },
    {
     "name": "stderr",
     "output_type": "stream",
     "text": [
      "[I 2023-12-21 10:27:38,995] Trial 8 finished with value: 0.8703480666816765 and parameters: {'learning_rate': 0.07501990443131994, 'depth': 6, 'l2_leaf_reg': 4.894309244978513}. Best is trial 5 with value: 0.8721107576311358.\n"
     ]
    },
    {
     "name": "stdout",
     "output_type": "stream",
     "text": [
      "0:\tlearn: 2.0662231\ttest: 2.0660497\tbest: 2.0660497 (0)\ttotal: 29.9ms\tremaining: 29.9s\n",
      "100:\tlearn: 0.5877802\ttest: 0.5647810\tbest: 0.5647810 (100)\ttotal: 2.01s\tremaining: 17.9s\n",
      "200:\tlearn: 0.5181769\ttest: 0.5009980\tbest: 0.5009980 (200)\ttotal: 3.71s\tremaining: 14.8s\n",
      "300:\tlearn: 0.4915222\ttest: 0.4789432\tbest: 0.4789432 (300)\ttotal: 5.35s\tremaining: 12.4s\n",
      "400:\tlearn: 0.4740218\ttest: 0.4667038\tbest: 0.4667038 (400)\ttotal: 6.98s\tremaining: 10.4s\n",
      "500:\tlearn: 0.4599628\ttest: 0.4563083\tbest: 0.4563083 (500)\ttotal: 8.61s\tremaining: 8.58s\n",
      "600:\tlearn: 0.4487800\ttest: 0.4493362\tbest: 0.4493362 (600)\ttotal: 10.2s\tremaining: 6.8s\n",
      "700:\tlearn: 0.4393141\ttest: 0.4440905\tbest: 0.4440905 (700)\ttotal: 11.8s\tremaining: 5.05s\n",
      "800:\tlearn: 0.4306338\ttest: 0.4393086\tbest: 0.4393086 (800)\ttotal: 13.5s\tremaining: 3.34s\n",
      "900:\tlearn: 0.4225563\ttest: 0.4346918\tbest: 0.4346918 (900)\ttotal: 15.1s\tremaining: 1.66s\n",
      "999:\tlearn: 0.4155846\ttest: 0.4312810\tbest: 0.4312810 (999)\ttotal: 16.7s\tremaining: 0us\n",
      "bestTest = 0.4312810291\n",
      "bestIteration = 999\n"
     ]
    },
    {
     "name": "stderr",
     "output_type": "stream",
     "text": [
      "[I 2023-12-21 10:28:10,828] Trial 9 finished with value: 0.8670762997593475 and parameters: {'learning_rate': 0.030543690779106007, 'depth': 6, 'l2_leaf_reg': 7.047808990835902}. Best is trial 5 with value: 0.8721107576311358.\n"
     ]
    }
   ],
   "source": [
    "def objective(trial):\n",
    "    params = {\n",
    "        'loss_function': 'MultiClass',\n",
    "        'custom_metric': 'F1',\n",
    "        'learning_rate': trial.suggest_float('learning_rate', 0.01, 0.1),\n",
    "        'depth': trial.suggest_int('depth', 5, 10),\n",
    "        'l2_leaf_reg': trial.suggest_float('l2_leaf_reg', 2, 10),\n",
    "        'early_stopping_rounds': 300,\n",
    "        'task_type': 'GPU'\n",
    "    }\n",
    "\n",
    "    model = catboost.CatBoostClassifier(**params, random_seed=42)\n",
    "    model.fit(train, verbose=100, eval_set=validation)\n",
    "    y_pred = model.predict(validation).flatten()\n",
    "    return f1_score(y_pred, val_labels, average='macro')\n",
    "\n",
    "sampler = TPESampler(seed=123)\n",
    "study = optuna.create_study(direction='maximize', sampler=sampler)\n",
    "study.optimize(objective, n_trials=10)"
   ]
  },
  {
   "cell_type": "code",
   "execution_count": 9,
   "id": "4mCl3kG85PSO",
   "metadata": {
    "colab": {
     "base_uri": "https://localhost:8080/"
    },
    "id": "4mCl3kG85PSO",
    "outputId": "ef1e2f85-8153-455f-82e3-f18470a04a4f"
   },
   "outputs": [
    {
     "data": {
      "text/plain": [
       "{'learning_rate': 0.07641958651588322,\n",
       " 'depth': 6,\n",
       " 'l2_leaf_reg': 3.4036140491799403}"
      ]
     },
     "execution_count": 9,
     "metadata": {},
     "output_type": "execute_result"
    }
   ],
   "source": [
    "study.best_params"
   ]
  },
  {
   "cell_type": "code",
   "execution_count": 10,
   "id": "f384f3fb-2262-4e20-a3d2-5b549ca47a45",
   "metadata": {
    "id": "f384f3fb-2262-4e20-a3d2-5b549ca47a45"
   },
   "outputs": [],
   "source": [
    "X_train = preprocessed_train[['lemmas']]\n",
    "y_train = preprocessed_train.topic\n",
    "X_test = preprocessed_test[['lemmas']]\n",
    "y_test = preprocessed_test.topic\n",
    "\n",
    "train = Pool(data=X_train,\n",
    "                  label=y_train,\n",
    "    text_features=['lemmas'],\n",
    ")\n",
    "\n",
    "test = Pool(data=X_test,\n",
    "            label=y_test,\n",
    "    text_features=['lemmas']\n",
    ")"
   ]
  },
  {
   "cell_type": "code",
   "execution_count": 11,
   "id": "e7c7b2fc-44ef-473c-8df2-87202999ad1b",
   "metadata": {
    "colab": {
     "base_uri": "https://localhost:8080/",
     "height": 958
    },
    "id": "e7c7b2fc-44ef-473c-8df2-87202999ad1b",
    "outputId": "57f116e1-0b89-462f-fe77-1dc8959e1920"
   },
   "outputs": [
    {
     "name": "stdout",
     "output_type": "stream",
     "text": [
      "0:\tlearn: 1.8755054\ttotal: 31.5ms\tremaining: 31.4s\n",
      "100:\tlearn: 0.4840533\ttotal: 1.96s\tremaining: 17.5s\n",
      "200:\tlearn: 0.4399285\ttotal: 3.59s\tremaining: 14.2s\n",
      "300:\tlearn: 0.4123161\ttotal: 5.13s\tremaining: 11.9s\n",
      "400:\tlearn: 0.3909752\ttotal: 6.64s\tremaining: 9.9s\n",
      "500:\tlearn: 0.3748323\ttotal: 8.16s\tremaining: 8.11s\n",
      "600:\tlearn: 0.3608916\ttotal: 9.66s\tremaining: 6.39s\n",
      "700:\tlearn: 0.3486908\ttotal: 11.2s\tremaining: 4.74s\n",
      "800:\tlearn: 0.3364602\ttotal: 12.7s\tremaining: 3.13s\n",
      "900:\tlearn: 0.3263846\ttotal: 14.2s\tremaining: 1.54s\n",
      "998:\tlearn: 0.3171281\ttotal: 15.6s\tremaining: 0us\n",
      "F1 Score Macro Average: 0.875\n",
      "                precision    recall  f1-score   support\n",
      "\n",
      "       culture       0.92      0.95      0.94       941\n",
      "defense_safety       0.87      0.85      0.86       960\n",
      "       economy       0.87      0.93      0.90       941\n",
      "     incidents       0.86      0.92      0.89       946\n",
      "      politics       0.79      0.82      0.81       993\n",
      "      religion       0.97      0.95      0.96       917\n",
      "       science       0.92      0.95      0.93       894\n",
      "       society       0.80      0.72      0.76       896\n",
      "         world       0.88      0.78      0.83       954\n",
      "\n",
      "      accuracy                           0.88      8442\n",
      "     macro avg       0.88      0.88      0.88      8442\n",
      "  weighted avg       0.88      0.88      0.87      8442\n",
      "\n"
     ]
    },
    {
     "data": {
      "image/png": "[encoded data removed]",
      "text/plain": [
       "<Figure size 1200x400 with 1 Axes>"
      ]
     },
     "metadata": {},
     "output_type": "display_data"
    }
   ],
   "source": [
    "best_params = {\n",
    "  'learning_rate':  0.07641958651588322,\n",
    "  'depth': 6,\n",
    "  'l2_leaf_reg': 3.4036140491799403,\n",
    "  'loss_function': 'MultiClass',\n",
    "  'custom_metric': 'F1',\n",
    "  'iterations': 999,\n",
    "  'task_type': 'GPU'\n",
    "            }\n",
    "\n",
    "best_model = catboost.CatBoostClassifier(**best_params, random_seed=42)\n",
    "best_model.fit(train, verbose=100)\n",
    "\n",
    "start_time = time.time()\n",
    "y_pred = best_model.predict(test)\n",
    "predicting_time = time.time() - start_time\n",
    "f1score = round(f1_score(y_test, y_pred, average='macro'), 3)\n",
    "result_df = pd.DataFrame({'model': ['CatBoostClassifier'],\n",
    "                              'vectorizer': ['NaiveBayes built-in CatBoostClassifier'],\n",
    "                              'f1': [f1score],\n",
    "                             'predicting time':[predicting_time]})\n",
    "summary = pd.concat([summary, result_df], ignore_index=True)\n",
    "\n",
    "print(f'F1 Score Macro Average: {f1score}')\n",
    "print(classification_report(y_test, y_pred))\n",
    "cm = confusion_matrix(y_test, y_pred)\n",
    "cm_percentage = cm / cm.sum(axis=1)[:, np.newaxis]\n",
    "cm_df = pd.DataFrame(data=cm_percentage, columns=np.unique(y_test), index=np.unique(y_pred))\n",
    "plt.figure(figsize=(12, 4))\n",
    "sns.heatmap(cm_df, square=False, annot=True, cmap='Blues', fmt='.2f', cbar=False)\n",
    "plt.xlabel('\\nPredicted Label', fontsize=16)\n",
    "plt.ylabel('True Label\\n', fontsize=16)\n",
    "plt.title(f'Confusion Matrix - CatBoostClassifier (Percentage)\\n', fontsize=18)\n",
    "plt.show();"
   ]
  },
  {
   "cell_type": "code",
   "execution_count": 12,
   "id": "-1tijmgo8xBi",
   "metadata": {
    "colab": {
     "base_uri": "https://localhost:8080/",
     "height": 143
    },
    "id": "-1tijmgo8xBi",
    "outputId": "3dd60a03-8ed4-4f3b-ffb5-18f72a1d87a0"
   },
   "outputs": [
    {
     "data": {
      "text/html": [
       "\n",
       "  <div id=\"df-c8b63ec7-ee04-4e3d-9ab1-14dc5a49abca\" class=\"colab-df-container\">\n",
       "    <div>\n",
       "<style scoped>\n",
       "    .dataframe tbody tr th:only-of-type {\n",
       "        vertical-align: middle;\n",
       "    }\n",
       "\n",
       "    .dataframe tbody tr th {\n",
       "        vertical-align: top;\n",
       "    }\n",
       "\n",
       "    .dataframe thead th {\n",
       "        text-align: right;\n",
       "    }\n",
       "</style>\n",
       "<table border=\"1\" class=\"dataframe\">\n",
       "  <thead>\n",
       "    <tr style=\"text-align: right;\">\n",
       "      <th></th>\n",
       "      <th>model</th>\n",
       "      <th>vectorizer</th>\n",
       "      <th>f1</th>\n",
       "      <th>predicting time</th>\n",
       "    </tr>\n",
       "  </thead>\n",
       "  <tbody>\n",
       "    <tr>\n",
       "      <th>0</th>\n",
       "      <td>LogisticRegression</td>\n",
       "      <td>Tfidf</td>\n",
       "      <td>0.881</td>\n",
       "      <td>2.648436</td>\n",
       "    </tr>\n",
       "    <tr>\n",
       "      <th>1</th>\n",
       "      <td>LogisticRegression</td>\n",
       "      <td>Word2Vec with Mean Pooling</td>\n",
       "      <td>0.859</td>\n",
       "      <td>3.920810</td>\n",
       "    </tr>\n",
       "    <tr>\n",
       "      <th>2</th>\n",
       "      <td>CatBoostClassifier</td>\n",
       "      <td>NaiveBayes built-in CatBoostClassifier</td>\n",
       "      <td>0.875</td>\n",
       "      <td>0.837941</td>\n",
       "    </tr>\n",
       "  </tbody>\n",
       "</table>\n",
       "</div>\n",
       "    <div class=\"colab-df-buttons\">\n",
       "\n",
       "  <div class=\"colab-df-container\">\n",
       "    <button class=\"colab-df-convert\" onclick=\"convertToInteractive('df-c8b63ec7-ee04-4e3d-9ab1-14dc5a49abca')\"\n",
       "            title=\"Convert this dataframe to an interactive table.\"\n",
       "            style=\"display:none;\">\n",
       "\n",
       "  <svg xmlns=\"http://www.w3.org/2000/svg\" height=\"24px\" viewBox=\"0 -960 960 960\">\n",
       "    <path d=\"M120-120v-720h720v720H120Zm60-500h600v-160H180v160Zm220 220h160v-160H400v160Zm0 220h160v-160H400v160ZM180-400h160v-160H180v160Zm440 0h160v-160H620v160ZM180-180h160v-160H180v160Zm440 0h160v-160H620v160Z\"/>\n",
       "  </svg>\n",
       "    </button>\n",
       "\n",
       "  <style>\n",
       "    .colab-df-container {\n",
       "      display:flex;\n",
       "      gap: 12px;\n",
       "    }\n",
       "\n",
       "    .colab-df-convert {\n",
       "      background-color: #E8F0FE;\n",
       "      border: none;\n",
       "      border-radius: 50%;\n",
       "      cursor: pointer;\n",
       "      display: none;\n",
       "      fill: #1967D2;\n",
       "      height: 32px;\n",
       "      padding: 0 0 0 0;\n",
       "      width: 32px;\n",
       "    }\n",
       "\n",
       "    .colab-df-convert:hover {\n",
       "      background-color: #E2EBFA;\n",
       "      box-shadow: 0px 1px 2px rgba(60, 64, 67, 0.3), 0px 1px 3px 1px rgba(60, 64, 67, 0.15);\n",
       "      fill: #174EA6;\n",
       "    }\n",
       "\n",
       "    .colab-df-buttons div {\n",
       "      margin-bottom: 4px;\n",
       "    }\n",
       "\n",
       "    [theme=dark] .colab-df-convert {\n",
       "      background-color: #3B4455;\n",
       "      fill: #D2E3FC;\n",
       "    }\n",
       "\n",
       "    [theme=dark] .colab-df-convert:hover {\n",
       "      background-color: #434B5C;\n",
       "      box-shadow: 0px 1px 3px 1px rgba(0, 0, 0, 0.15);\n",
       "      filter: drop-shadow(0px 1px 2px rgba(0, 0, 0, 0.3));\n",
       "      fill: #FFFFFF;\n",
       "    }\n",
       "  </style>\n",
       "\n",
       "    <script>\n",
       "      const buttonEl =\n",
       "        document.querySelector('#df-c8b63ec7-ee04-4e3d-9ab1-14dc5a49abca button.colab-df-convert');\n",
       "      buttonEl.style.display =\n",
       "        google.colab.kernel.accessAllowed ? 'block' : 'none';\n",
       "\n",
       "      async function convertToInteractive(key) {\n",
       "        const element = document.querySelector('#df-c8b63ec7-ee04-4e3d-9ab1-14dc5a49abca');\n",
       "        const dataTable =\n",
       "          await google.colab.kernel.invokeFunction('convertToInteractive',\n",
       "                                                    [key], {});\n",
       "        if (!dataTable) return;\n",
       "\n",
       "        const docLinkHtml = 'Like what you see? Visit the ' +\n",
       "          '<a target=\"_blank\" href=https://colab.research.google.com/notebooks/data_table.ipynb>data table notebook</a>'\n",
       "          + ' to learn more about interactive tables.';\n",
       "        element.innerHTML = '';\n",
       "        dataTable['output_type'] = 'display_data';\n",
       "        await google.colab.output.renderOutput(dataTable, element);\n",
       "        const docLink = document.createElement('div');\n",
       "        docLink.innerHTML = docLinkHtml;\n",
       "        element.appendChild(docLink);\n",
       "      }\n",
       "    </script>\n",
       "  </div>\n",
       "\n",
       "\n",
       "<div id=\"df-c6eda800-bbb7-4570-853c-c0bde0a39dba\">\n",
       "  <button class=\"colab-df-quickchart\" onclick=\"quickchart('df-c6eda800-bbb7-4570-853c-c0bde0a39dba')\"\n",
       "            title=\"Suggest charts\"\n",
       "            style=\"display:none;\">\n",
       "\n",
       "<svg xmlns=\"http://www.w3.org/2000/svg\" height=\"24px\"viewBox=\"0 0 24 24\"\n",
       "     width=\"24px\">\n",
       "    <g>\n",
       "        <path d=\"M19 3H5c-1.1 0-2 .9-2 2v14c0 1.1.9 2 2 2h14c1.1 0 2-.9 2-2V5c0-1.1-.9-2-2-2zM9 17H7v-7h2v7zm4 0h-2V7h2v10zm4 0h-2v-4h2v4z\"/>\n",
       "    </g>\n",
       "</svg>\n",
       "  </button>\n",
       "\n",
       "<style>\n",
       "  .colab-df-quickchart {\n",
       "      --bg-color: #E8F0FE;\n",
       "      --fill-color: #1967D2;\n",
       "      --hover-bg-color: #E2EBFA;\n",
       "      --hover-fill-color: #174EA6;\n",
       "      --disabled-fill-color: #AAA;\n",
       "      --disabled-bg-color: #DDD;\n",
       "  }\n",
       "\n",
       "  [theme=dark] .colab-df-quickchart {\n",
       "      --bg-color: #3B4455;\n",
       "      --fill-color: #D2E3FC;\n",
       "      --hover-bg-color: #434B5C;\n",
       "      --hover-fill-color: #FFFFFF;\n",
       "      --disabled-bg-color: #3B4455;\n",
       "      --disabled-fill-color: #666;\n",
       "  }\n",
       "\n",
       "  .colab-df-quickchart {\n",
       "    background-color: var(--bg-color);\n",
       "    border: none;\n",
       "    border-radius: 50%;\n",
       "    cursor: pointer;\n",
       "    display: none;\n",
       "    fill: var(--fill-color);\n",
       "    height: 32px;\n",
       "    padding: 0;\n",
       "    width: 32px;\n",
       "  }\n",
       "\n",
       "  .colab-df-quickchart:hover {\n",
       "    background-color: var(--hover-bg-color);\n",
       "    box-shadow: 0 1px 2px rgba(60, 64, 67, 0.3), 0 1px 3px 1px rgba(60, 64, 67, 0.15);\n",
       "    fill: var(--button-hover-fill-color);\n",
       "  }\n",
       "\n",
       "  .colab-df-quickchart-complete:disabled,\n",
       "  .colab-df-quickchart-complete:disabled:hover {\n",
       "    background-color: var(--disabled-bg-color);\n",
       "    fill: var(--disabled-fill-color);\n",
       "    box-shadow: none;\n",
       "  }\n",
       "\n",
       "  .colab-df-spinner {\n",
       "    border: 2px solid var(--fill-color);\n",
       "    border-color: transparent;\n",
       "    border-bottom-color: var(--fill-color);\n",
       "    animation:\n",
       "      spin 1s steps(1) infinite;\n",
       "  }\n",
       "\n",
       "  @keyframes spin {\n",
       "    0% {\n",
       "      border-color: transparent;\n",
       "      border-bottom-color: var(--fill-color);\n",
       "      border-left-color: var(--fill-color);\n",
       "    }\n",
       "    20% {\n",
       "      border-color: transparent;\n",
       "      border-left-color: var(--fill-color);\n",
       "      border-top-color: var(--fill-color);\n",
       "    }\n",
       "    30% {\n",
       "      border-color: transparent;\n",
       "      border-left-color: var(--fill-color);\n",
       "      border-top-color: var(--fill-color);\n",
       "      border-right-color: var(--fill-color);\n",
       "    }\n",
       "    40% {\n",
       "      border-color: transparent;\n",
       "      border-right-color: var(--fill-color);\n",
       "      border-top-color: var(--fill-color);\n",
       "    }\n",
       "    60% {\n",
       "      border-color: transparent;\n",
       "      border-right-color: var(--fill-color);\n",
       "    }\n",
       "    80% {\n",
       "      border-color: transparent;\n",
       "      border-right-color: var(--fill-color);\n",
       "      border-bottom-color: var(--fill-color);\n",
       "    }\n",
       "    90% {\n",
       "      border-color: transparent;\n",
       "      border-bottom-color: var(--fill-color);\n",
       "    }\n",
       "  }\n",
       "</style>\n",
       "\n",
       "  <script>\n",
       "    async function quickchart(key) {\n",
       "      const quickchartButtonEl =\n",
       "        document.querySelector('#' + key + ' button');\n",
       "      quickchartButtonEl.disabled = true;  // To prevent multiple clicks.\n",
       "      quickchartButtonEl.classList.add('colab-df-spinner');\n",
       "      try {\n",
       "        const charts = await google.colab.kernel.invokeFunction(\n",
       "            'suggestCharts', [key], {});\n",
       "      } catch (error) {\n",
       "        console.error('Error during call to suggestCharts:', error);\n",
       "      }\n",
       "      quickchartButtonEl.classList.remove('colab-df-spinner');\n",
       "      quickchartButtonEl.classList.add('colab-df-quickchart-complete');\n",
       "    }\n",
       "    (() => {\n",
       "      let quickchartButtonEl =\n",
       "        document.querySelector('#df-c6eda800-bbb7-4570-853c-c0bde0a39dba button');\n",
       "      quickchartButtonEl.style.display =\n",
       "        google.colab.kernel.accessAllowed ? 'block' : 'none';\n",
       "    })();\n",
       "  </script>\n",
       "</div>\n",
       "    </div>\n",
       "  </div>\n"
      ],
      "text/plain": [
       "                model                              vectorizer     f1  \\\n",
       "0  LogisticRegression                                   Tfidf  0.881   \n",
       "1  LogisticRegression              Word2Vec with Mean Pooling  0.859   \n",
       "2  CatBoostClassifier  NaiveBayes built-in CatBoostClassifier  0.875   \n",
       "\n",
       "   predicting time  \n",
       "0         2.648436  \n",
       "1         3.920810  \n",
       "2         0.837941  "
      ]
     },
     "execution_count": 12,
     "metadata": {},
     "output_type": "execute_result"
    }
   ],
   "source": [
    "summary"
   ]
  },
  {
   "cell_type": "markdown",
   "id": "7b485d17-c95d-4eb0-98c2-25623901e709",
   "metadata": {},
   "source": [
    "The results of CatBoostClassifier on lemmatized docs with built-in text featurizing is a bit worse."
   ]
  },
  {
   "cell_type": "code",
   "execution_count": 13,
   "id": "faf290b2-d6eb-422f-bd08-e11da354f8e8",
   "metadata": {
    "id": "faf290b2-d6eb-422f-bd08-e11da354f8e8"
   },
   "outputs": [],
   "source": [
    "summary.to_csv(os.path.join(data_path,'summary_ml.csv'), index=False)"
   ]
  }
 ],
 "metadata": {
  "accelerator": "GPU",
  "colab": {
   "gpuType": "T4",
   "machine_shape": "hm",
   "provenance": []
  },
  "kernelspec": {
   "display_name": "Python 3 (ipykernel)",
   "language": "python",
   "name": "python3"
  },
  "language_info": {
   "codemirror_mode": {
    "name": "ipython",
    "version": 3
   },
   "file_extension": ".py",
   "mimetype": "text/x-python",
   "name": "python",
   "nbconvert_exporter": "python",
   "pygments_lexer": "ipython3",
   "version": "3.9.13"
  }
 },
 "nbformat": 4,
 "nbformat_minor": 5
}
